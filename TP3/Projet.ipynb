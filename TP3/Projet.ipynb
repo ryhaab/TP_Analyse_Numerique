{
 "cells": [
  {
   "cell_type": "markdown",
   "id": "5dd4c8c3",
   "metadata": {},
   "source": [
    "<FONT color=\"#0BB296\" size=\"14\">Projet Analyse Numerique </FONT>"
   ]
  },
  {
   "cell_type": "markdown",
   "id": "3e2258f1",
   "metadata": {},
   "source": [
    "Le projet consiste à modeliser quelques méthode d'analyse numérique avec Python.\n",
    "- Méthode des Réctangles Gauche\n",
    "- Méthode des Trapézes\n",
    "- Méthode de Simpson\n",
    "- Méthode des Pointes Milieux\n",
    "\n",
    "<img src=\"Demo-projet.gif\" alt=\"demo de projet\"/>"
   ]
  },
  {
   "cell_type": "code",
   "execution_count": 53,
   "id": "cff3ff82",
   "metadata": {},
   "outputs": [
    {
     "name": "stdout",
     "output_type": "stream",
     "text": [
      "Collecting package metadata (current_repodata.json): ...working... done\n",
      "Solving environment: ...working... done\n",
      "\n",
      "# All requested packages already installed.\n",
      "\n",
      "\n",
      "Note: you may need to restart the kernel to use updated packages.\n"
     ]
    }
   ],
   "source": [
    "conda install -c conda-forge ipympl"
   ]
  },
  {
   "cell_type": "code",
   "execution_count": 54,
   "id": "e93c1183",
   "metadata": {},
   "outputs": [],
   "source": [
    "%matplotlib widget\n",
    "from ipywidgets import interact, interactive, fixed, interact_manual, widgets\n",
    "import matplotlib.pyplot as plt\n",
    "import numpy as np\n",
    "from numpy import *"
   ]
  },
  {
   "cell_type": "code",
   "execution_count": 55,
   "id": "d2bc4bde",
   "metadata": {},
   "outputs": [],
   "source": [
    "f=lambda x:1/(1+x**2)"
   ]
  },
  {
   "cell_type": "code",
   "execution_count": 56,
   "id": "c05e5e90",
   "metadata": {},
   "outputs": [],
   "source": [
    "class RectangleG ( object ) :\n",
    "    def __init__ (self , a , b , n , f, c ,lx , ly ) :\n",
    "        self.a = a\n",
    "        self.b = b\n",
    "        self.x = np.linspace( a , b , n+1 )\n",
    "        self.f = f\n",
    "        self.n = n\n",
    "        self.c = c\n",
    "        self.lx = lx\n",
    "        self.ly = ly\n",
    "    def integrate ( self , f ) :\n",
    "        x= self.x\n",
    "        y= f( x )\n",
    "        h = float( x[1] - x[0] )\n",
    "        s = sum( y[ 0 : -1 ] )\n",
    "        return h * s\n",
    "    def Graph ( self , f ,c,lx,ly, resolution =1001) :\n",
    "        xl = self.x\n",
    "        yl = f(xl)\n",
    "        xlist_fine =np.linspace( self.a , self.b , resolution )\n",
    "        for i in range ( self.n ) :\n",
    "            x_rect = [xl[ i ] , xl[ i ] , xl[ i + 1 ] , xl[i+1] , xl[ i ] ] # abscisses des sommets\n",
    "            y_rect = [0 , yl[ i ] , yl[ i ] , 0 , 0 ] # ordonnees des sommets\n",
    "            plt.plot ( x_rect , y_rect , 'r' )\n",
    "        yflist_fine = f ( xlist_fine )\n",
    "        plt.plot ( xlist_fine , yflist_fine,color=c )\n",
    "        plt.plot(xl, yl,\"bo\")\n",
    "        plt.xlabel (lx)\n",
    "        plt.ylabel (ly)\n",
    "        plt.title ( ' Methode des rectangles gauches' )\n",
    "        plt.text( 0.5*( self.a+ self.b ) , f(self.b ) , 'I_{} ={:0.8f}'.format(self.n,self.integrate( f ) ) , fontsize =10 )\n",
    "    "
   ]
  },
  {
   "cell_type": "code",
   "execution_count": 57,
   "id": "7a900761",
   "metadata": {},
   "outputs": [],
   "source": [
    "class Trapezoidal(object):\n",
    "    def __init__ (self , a , b , n , f, c ,lx , ly ) :\n",
    "        self.a = a\n",
    "        self.b = b\n",
    "        self.x = np.linspace( a , b , n+1 )\n",
    "        self.f = f\n",
    "        self.n = n\n",
    "        self.c = c\n",
    "        self.lx = lx\n",
    "        self.ly = ly\n",
    "    def integrate(self,f):\n",
    "        x=self.x\n",
    "        y=f(x)\n",
    "        h = float(x[1] - x[0])\n",
    "        s = y[0] + y[-1] + 2.0*sum(y[1:-1])\n",
    "        return h * s / 2.0\n",
    "    def Graph ( self , f ,c,lx,ly, resolution =1001) :\n",
    "        xl = self.x\n",
    "        yl = f(xl)\n",
    "        xlist_fine=np.linspace(self.a, self.b, resolution)\n",
    "        for i in range(self.n):\n",
    "            x_rect = [xl[i], xl[i], xl[i+1], xl[i+1], xl[i]] # abscisses des sommets\n",
    "            y_rect = [0   , yl[i], yl[i+1]  , 0     , 0   ] # ordonnees des sommets\n",
    "            plt.plot(x_rect, y_rect,\"m\")\n",
    "        yflist_fine = f(xlist_fine)\n",
    "        plt.plot(xlist_fine, yflist_fine,color=c)#plot de f(x)\n",
    "        plt.plot(xl, yl,\"cs\")#point support\n",
    "        plt.xlabel(lx)\n",
    "        plt.ylabel (ly)\n",
    "        plt.title ( ' Methode des Trapèzes' )\n",
    "        plt.text( 0.5*( self.a+ self.b ) , f(self.b ) , 'I_{} ={:0.8f}'.format(self.n,self.integrate( f ) ) , fontsize =10 )"
   ]
  },
  {
   "cell_type": "code",
   "execution_count": 58,
   "id": "38e11c93",
   "metadata": {},
   "outputs": [],
   "source": [
    "class Simpson(object):\n",
    "    def __init__ (self , a , b , n , f, c ,lx , ly ) :\n",
    "        self.a = a\n",
    "        self.b = b\n",
    "        self.x = np.linspace( a , b , n+1 )\n",
    "        self.f = f\n",
    "        self.n = n\n",
    "        self.c = c\n",
    "        self.lx = lx\n",
    "        self.ly = ly\n",
    "   \n",
    "    def integrate(self,f):#calculer la somme ((b-a)/6*n)*[f(a)+2*sum(xi)+4*sum(mi)+f(b)]\n",
    "        x=self.x #les points supports xi #x(0)=a-->x(n)=b\n",
    "        y=f(x) #yi variable local y(o)=f(xo)-->y(n)\n",
    "        h = float(x[1] - x[0])#pas h=(b-a)/2*n\n",
    "        n = len(x) - 1#nombre subdivision\n",
    "        if n % 2 == 1:#si le reste de la division =1 impaire\n",
    "            n -= 1\n",
    "        s = y[0] + y[n] + 4.0 * sum(y[1:-1:2]) + 2.0 * sum(y[2:-2:2])\n",
    "        #y[1:-1:2] \n",
    "        #calculer la somme\n",
    "        #T(-1] dernier valeur dans le tableau)\n",
    "        return h * s / 3.0\n",
    "   \n",
    "\n",
    "    def Graph ( self , f ,c,lx,ly, resolution =1001) :\n",
    "        xl = self.x\n",
    "        yl = f(xl)\n",
    "        xlist_fine=np.linspace(self.a, self.b, resolution)\n",
    "        for i in range(self.n):#range intervalle 0 à n\n",
    "            xx=np.linspace(xl[i], xl[i+1], resolution)\n",
    "            #pour chaque subdivisuion  on doit dessiner polynome dnc on doit aussi le subdiviser\n",
    "            m=(xl[i]+xl[i+1])/2#pt milieu\n",
    "            aa=xl[i]#borne gauche\n",
    "            bb=xl[i+1]#borne droite\n",
    "            l0 = (xx-m)/(aa-m)*(xx-bb)/(aa-bb)\n",
    "            l1 = (xx-aa)/(m-aa)*(xx-bb)/(m-bb)\n",
    "            l2 = (xx-aa)/(bb-aa)*(xx-m)/(bb-m)\n",
    "            P = f(aa)*l0 + f(m)*l1 + f(bb)*l2#fonction dde polynome\n",
    "            plt.plot(xx,P,'b')#dessiner polynome d'interpolation\n",
    "            plt.plot(m,f(m),\"r*\")\n",
    "        yflist_fine = f(xlist_fine)\n",
    "        plt.plot(xlist_fine, yflist_fine)#plot de f(x)\n",
    "        plt.plot(xl, yl,\"cs\")#point support\n",
    "        plt.xlabel(lx)\n",
    "        plt.ylabel (ly)\n",
    "        plt.title ( ' Methode de Simpson' )\n",
    "        plt.text( 0.5*( self.a+ self.b ) , f(self.b ) , 'I_{} ={:0.8f}'.format(self.n,self.integrate( f ) ) , fontsize =10 )"
   ]
  },
  {
   "cell_type": "code",
   "execution_count": 59,
   "id": "4cc9a9ca",
   "metadata": {},
   "outputs": [],
   "source": [
    "class Milieux( object ) :\n",
    "    def __init__ (self , a , b , n , f, c ,lx , ly ) :\n",
    "        self.a = a\n",
    "        self.b = b\n",
    "        self.x = np.linspace( a , b , n+1 )\n",
    "        self.f = f\n",
    "        self.n = n\n",
    "        self.c = c\n",
    "        self.lx = lx\n",
    "        self.ly = ly\n",
    "\n",
    "    def integrate(self,f):\n",
    "        h=float(self.b-self.a)/(self.n)\n",
    "        sum1=0\n",
    "        for i in range(self.n):\n",
    "            sum1 += f(self.a+(i+1/2)*h)\n",
    "\n",
    "        I = h*sum1\n",
    "        return I\n",
    "\n",
    "    def Graph ( self , f ,c,lx,ly, resolution =1001) :\n",
    "        xl = self.x\n",
    "        yl = f(xl)\n",
    "        xlist_fine =np.linspace( self.a , self.b , resolution )\n",
    "        for i in range ( self.n ) :\n",
    "            mi=(xl[i]+xl[i+1])/2\n",
    "            x_rect = [xl[i], xl[i], xl[i+1], xl[i+1], xl[i]] # abscisses des sommets\n",
    "            y_rect = [0 , f(mi), f(mi) , 0 , 0 ] # ordonnees des sommets\n",
    "            plt.plot ( x_rect , y_rect , 'r' )\n",
    "            plt.plot(mi,f(mi), 'g*')\n",
    "        yflist_fine = f ( xlist_fine )\n",
    "        plt.plot ( xlist_fine , yflist_fine,color=c )\n",
    "        #plt.plot(xl, yl,\"bo\")\n",
    "        plt.xlabel ( lx )\n",
    "        plt.ylabel ( ly )\n",
    "        plt.title ( ' Methode de Milieux' )\n",
    "        plt.text( 0.5*( self.a+ self.b ) , f(self.b ) , 'I_{} ={:0.8f}'.format(self.n,self.integrate( f ) ) , fontsize =10 )"
   ]
  },
  {
   "cell_type": "code",
   "execution_count": 60,
   "id": "cd94ca65",
   "metadata": {},
   "outputs": [],
   "source": [
    "def sim(a,b,n,f,i,x,y):\n",
    "    R=RectangleG(a,b,n,f,i,x,y)\n",
    "    T=Trapezoidal(a,b,n,f,i,x,y)\n",
    "    M=Milieux(a,b,n,f,i,x,y)\n",
    "    S=Simpson(a,b,n,f,i,x,y)\n",
    "\n",
    "    plt.subplot(221)  \n",
    "    R.Graph(f,i,x,y)\n",
    "    plt.subplot(222)\n",
    "    T.Graph(f,i,x,y)\n",
    "    plt.subplot(223)\n",
    "    M.Graph(f,i,x,y)\n",
    "    plt.subplot(224)\n",
    "    S.Graph(f,i,x,y)\n",
    "    plt.show()"
   ]
  },
  {
   "cell_type": "code",
   "execution_count": 61,
   "id": "300f946c",
   "metadata": {},
   "outputs": [
    {
     "data": {
      "application/vnd.jupyter.widget-view+json": {
       "model_id": "4317e6efbc094af98f14dabcf139bf92",
       "version_major": 2,
       "version_minor": 0
      },
      "text/html": [
       "\n",
       "            <div style=\"display: inline-block;\">\n",
       "                <div class=\"jupyter-widgets widget-label\" style=\"text-align: center;\">\n",
       "                    Figure\n",
       "                </div>\n",
       "                <img src='data:image/png;base64,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' width=600.0/>\n",
       "            </div>\n",
       "        "
      ],
      "text/plain": [
       "Canvas(toolbar=Toolbar(toolitems=[('Home', 'Reset original view', 'home', 'home'), ('Back', 'Back to previous …"
      ]
     },
     "metadata": {},
     "output_type": "display_data"
    }
   ],
   "source": [
    "output = widgets.Output() \n",
    "with output:\n",
    "    fig= plt.figure(figsize=(6,6))\n",
    "\n",
    "fig.canvas.toolbar_position = 'bottom' "
   ]
  },
  {
   "cell_type": "code",
   "execution_count": 62,
   "id": "ebb71dc5",
   "metadata": {},
   "outputs": [],
   "source": [
    "# create some control elements\n",
    "int_slider = widgets.IntSlider(value=1, min=0, max=10, step=1, description='N')\n",
    "color_picker = widgets.ColorPicker(value=\"green\", description='pick a color')\n",
    "text_a= widgets.IntText(value=-1, description='Donner A', continuous_update=False)\n",
    "text_b = widgets.IntText(value=1, description='Donner B', continuous_update=False)\n",
    "select = widgets.Dropdown(options={'1/(1+x**2)':lambda x:1/(1+x**2),\n",
    "                                    'sin(x)':lambda x: sin(x),\n",
    "                                    'cos(x)':lambda x:cos(x),\n",
    "                                    'tan(x)':lambda x:tan(x),\n",
    "                                    '1/(1+x)':lambda x:1/(1+x),\n",
    "                                    'x**2-x+5':lambda x:x**2-x+5},description='Choisir une fonction') \n",
    "text_xlabel = widgets.Text(value='x', description='xlabel', continuous_update=False)\n",
    "text_ylabel = widgets.Text(value='f(x)', description='ylabel', continuous_update=False)\n",
    "button = widgets.Button(description=\"Afficher\")\n",
    "\n",
    "# callback functions\n",
    "def update(change):\n",
    "    \"\"\"redraw line (update plot)\"\"\"\n",
    "    fig.clear() \n",
    "    sim(text_a.value,text_b.value,int_slider.value,select.value,color_picker.value,text_xlabel.value,text_ylabel.value)\n",
    "   \n",
    "def line_color(change):\n",
    "    \"\"\"set line color\"\"\"\n",
    "    fig.clear()\n",
    "    sim(text_a.value,text_b.value,int_slider.value,select.value,color_picker.value,text_xlabel.value,text_ylabel.value)\n",
    "    \n",
    "def update_xlabel(change):\n",
    "    fig.clear()\n",
    "    sim(text_a.value,text_b.value,int_slider.value,select.value,color_picker.value,change.new,text_ylabel.value)\n",
    "def update_ylabel(change):\n",
    "    fig.clear()\n",
    "    sim(text_a.value,text_b.value,int_slider.value,select.value,color_picker.value,text_xlabel.value,change.new)\n",
    "def on_button_clicked(b):\n",
    "    with output:\n",
    "        fig.clear()\n",
    "        sim(text_a.value,text_b.value,int_slider.value,select.value,color_picker.value,text_xlabel.value,text_ylabel.value)\n",
    "\n",
    "int_slider.observe(update, 'value')\n",
    "color_picker.observe(line_color, 'value')\n",
    "text_xlabel.observe(update_xlabel, 'value')\n",
    "text_ylabel.observe(update_ylabel, 'value')"
   ]
  },
  {
   "cell_type": "code",
   "execution_count": 63,
   "id": "ec0576c9",
   "metadata": {},
   "outputs": [
    {
     "data": {
      "application/vnd.jupyter.widget-view+json": {
       "model_id": "5811aa37d47c445db62a4a64b81fda71",
       "version_major": 2,
       "version_minor": 0
      },
      "text/plain": [
       "HBox(children=(VBox(children=(IntSlider(value=1, description='N', max=10), ColorPicker(value='green', descript…"
      ]
     },
     "metadata": {},
     "output_type": "display_data"
    },
    {
     "data": {
      "application/vnd.jupyter.widget-view+json": {
       "model_id": "4317e6efbc094af98f14dabcf139bf92",
       "version_major": 2,
       "version_minor": 0
      },
      "text/html": [
       "\n",
       "            <div style=\"display: inline-block;\">\n",
       "                <div class=\"jupyter-widgets widget-label\" style=\"text-align: center;\">\n",
       "                    Figure 1\n",
       "                </div>\n",
       "                <img src='data:image/png;base64,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' width=600.0/>\n",
       "            </div>\n",
       "        "
      ],
      "text/plain": [
       "Canvas(toolbar=Toolbar(toolitems=[('Home', 'Reset original view', 'home', 'home'), ('Back', 'Back to previous …"
      ]
     },
     "metadata": {},
     "output_type": "display_data"
    }
   ],
   "source": [
    "controls = widgets.VBox([int_slider, color_picker,text_a, text_b,select,text_xlabel, text_ylabel,button])\n",
    "button.on_click(on_button_clicked)\n",
    "widgets.HBox([controls, output])"
   ]
  },
  {
   "cell_type": "code",
   "execution_count": null,
   "id": "a1d1594e",
   "metadata": {},
   "outputs": [],
   "source": []
  },
  {
   "cell_type": "code",
   "execution_count": null,
   "id": "8dd99561",
   "metadata": {},
   "outputs": [],
   "source": []
  }
 ],
 "metadata": {
  "kernelspec": {
   "display_name": "Python 3",
   "language": "python",
   "name": "python3"
  },
  "language_info": {
   "codemirror_mode": {
    "name": "ipython",
    "version": 3
   },
   "file_extension": ".py",
   "mimetype": "text/x-python",
   "name": "python",
   "nbconvert_exporter": "python",
   "pygments_lexer": "ipython3",
   "version": "3.8.8"
  }
 },
 "nbformat": 4,
 "nbformat_minor": 5
}
